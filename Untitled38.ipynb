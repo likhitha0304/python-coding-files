{
 "cells": [
  {
   "cell_type": "code",
   "execution_count": 1,
   "id": "b1ac8c3b",
   "metadata": {},
   "outputs": [
    {
     "name": "stdout",
     "output_type": "stream",
     "text": [
      "enter your first num:4\n",
      " enter your second num: 6\n",
      "enter the symbol +,-,/,%,*,**,// : +\n",
      "4+6=10\n",
      "enter your first num:3\n",
      " enter your second num: 9\n",
      "enter the symbol +,-,/,%,*,**,// : a\n"
     ]
    }
   ],
   "source": [
    "while(2==2):\n",
    "    x=int(input(\"enter your first num:\"))\n",
    "    y=int(input(\" enter your second num: \"))\n",
    "    c=input(\"enter the symbol +,-,/,%,*,**,// : \")\n",
    "    if(c==\"+\"):\n",
    "        print(\"{}+{}={}\".format(x,y,x+y))\n",
    "    elif(c==\"-\"):\n",
    "        print(\"{}-{}={}\".format(x,y,x-y))\n",
    "    elif(c==\"*\"):\n",
    "        print(\"{}*{}={}\".format(x,y,x*y))\n",
    "    elif(c==\"/\"):\n",
    "        print(\"{}/{}={}\".format(x,y,x/y))\n",
    "    elif(c==\"**\"):\n",
    "        print(\"{}**{}={}\".format(x,y,x**y))\n",
    "    elif(c==\"%\"):\n",
    "        print(\"{}%{}={}\".format(x,y,x%y))\n",
    "    elif(c.lower()==\"a\"):\n",
    "        break\n",
    "    else:\n",
    "        print(\"enter either correct symbolor a\")\n",
    "                          "
   ]
  },
  {
   "cell_type": "code",
   "execution_count": null,
   "id": "6188a2a2",
   "metadata": {},
   "outputs": [],
   "source": []
  }
 ],
 "metadata": {
  "kernelspec": {
   "display_name": "Python 3 (ipykernel)",
   "language": "python",
   "name": "python3"
  },
  "language_info": {
   "codemirror_mode": {
    "name": "ipython",
    "version": 3
   },
   "file_extension": ".py",
   "mimetype": "text/x-python",
   "name": "python",
   "nbconvert_exporter": "python",
   "pygments_lexer": "ipython3",
   "version": "3.11.3"
  }
 },
 "nbformat": 4,
 "nbformat_minor": 5
}
