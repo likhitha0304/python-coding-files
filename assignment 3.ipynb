{
 "cells": [
  {
   "cell_type": "code",
   "execution_count": 1,
   "id": "5886bbd9",
   "metadata": {},
   "outputs": [],
   "source": [
    "#1. Write a Python program that prints all the numbers from 0 to 6 except 3 and 6"
   ]
  },
  {
   "cell_type": "code",
   "execution_count": 2,
   "id": "5540a204",
   "metadata": {},
   "outputs": [
    {
     "name": "stdout",
     "output_type": "stream",
     "text": [
      "0\n",
      "1\n",
      "2\n",
      "4\n",
      "5\n"
     ]
    }
   ],
   "source": [
    "#using the for loop condition \n",
    "for i in range(0,7):\n",
    "    if i%3 == 0 and i!=0:\n",
    "        continue\n",
    "    else:\n",
    "        print(i)"
   ]
  },
  {
   "cell_type": "code",
   "execution_count": 3,
   "id": "b86eea14",
   "metadata": {},
   "outputs": [],
   "source": [
    "#2.  Write a program to accept a number from a user and calculate the sum of all numbers from 1 to a given number"
   ]
  },
  {
   "cell_type": "code",
   "execution_count": 4,
   "id": "cada8ebb",
   "metadata": {},
   "outputs": [
    {
     "name": "stdout",
     "output_type": "stream",
     "text": [
      "Enter a number: 10\n",
      "55\n"
     ]
    }
   ],
   "source": [
    "# Accept a number from the user\n",
    "x=int(input(\"Enter a number: \"))\n",
    "y=0\n",
    "#using for loop concept calculating the sum of all numbers \n",
    "for x in range(1,x+1):\n",
    "    y+=x\n",
    "#print the result\n",
    "print(y)"
   ]
  },
  {
   "cell_type": "code",
   "execution_count": 5,
   "id": "0f39f4e4",
   "metadata": {},
   "outputs": [],
   "source": [
    "#3. Write a program to print multiplication table of a given number(input)"
   ]
  },
  {
   "cell_type": "code",
   "execution_count": 6,
   "id": "793eb7aa",
   "metadata": {},
   "outputs": [
    {
     "name": "stdout",
     "output_type": "stream",
     "text": [
      "Enter a number: 2\n",
      "Multiplication table of : 2\n",
      "2 X 1 = 2\n",
      "2 X 2 = 4\n",
      "2 X 3 = 6\n",
      "2 X 4 = 8\n",
      "2 X 5 = 10\n",
      "2 X 6 = 12\n",
      "2 X 7 = 14\n",
      "2 X 8 = 16\n",
      "2 X 9 = 18\n",
      "2 X 10 = 20\n"
     ]
    }
   ],
   "source": [
    "#Accept a number from the user\n",
    "\n",
    "num = int(input(\"Enter a number: \"))\n",
    "\n",
    "#multiplication table of a given number(input)\n",
    "\n",
    "print(\"Multiplication table of :\", num)\n",
    "\n",
    "#using for loop condition \n",
    "\n",
    "for i in range(1, 11):\n",
    "    print(\"{} X {} = {}\".format(num, i, num*i))"
   ]
  },
  {
   "cell_type": "code",
   "execution_count": 7,
   "id": "22abcc5d",
   "metadata": {},
   "outputs": [],
   "source": [
    "#4. Write a program to count the total number of digits in a number using a while loop. "
   ]
  },
  {
   "cell_type": "code",
   "execution_count": 8,
   "id": "a41d96bd",
   "metadata": {},
   "outputs": [
    {
     "name": "stdout",
     "output_type": "stream",
     "text": [
      "enter a number :1232345637489036\n",
      "Total no of digits is :  16\n"
     ]
    }
   ],
   "source": [
    "#Accept a number from the user\n",
    "num = input(\"enter a number :\")\n",
    "y = 0\n",
    "\n",
    "#using while loop \n",
    "\n",
    "while y<len(num):\n",
    "    y+=1\n",
    "    \n",
    "#print the result\n",
    "print(\"Total no of digits is : \",y)"
   ]
  },
  {
   "cell_type": "code",
   "execution_count": 10,
   "id": "260dca6b",
   "metadata": {},
   "outputs": [],
   "source": [
    "#6. Python program which iterates the integers from 1 to 60. For multiples of three print \"Fizz\" instead of the number and for the multiples of four print \"Buzz\". For numbers which are multiples of both three and five print \"FizzBuzz\"."
   ]
  },
  {
   "cell_type": "code",
   "execution_count": 16,
   "id": "c24467ca",
   "metadata": {},
   "outputs": [
    {
     "name": "stdout",
     "output_type": "stream",
     "text": [
      "1\n",
      "2\n",
      "fizz\n",
      "4\n",
      "Buzz\n",
      "fizz\n",
      "7\n",
      "8\n",
      "fizz\n",
      "Buzz\n",
      "11\n",
      "fizz\n",
      "13\n",
      "14\n",
      "fizz\n",
      "16\n",
      "17\n",
      "fizz\n",
      "19\n",
      "Buzz\n",
      "fizz\n",
      "22\n",
      "23\n",
      "fizz\n",
      "Buzz\n",
      "26\n",
      "fizz\n",
      "28\n",
      "29\n",
      "fizz\n",
      "31\n",
      "32\n",
      "fizz\n",
      "34\n",
      "Buzz\n",
      "fizz\n",
      "37\n",
      "38\n",
      "fizz\n",
      "Buzz\n",
      "41\n",
      "fizz\n",
      "43\n",
      "44\n",
      "fizz\n",
      "46\n",
      "47\n",
      "fizz\n",
      "49\n",
      "Buzz\n",
      "fizz\n",
      "52\n",
      "53\n",
      "fizz\n",
      "Buzz\n",
      "56\n",
      "fizz\n",
      "58\n",
      "59\n",
      "fizz\n"
     ]
    }
   ],
   "source": [
    "#iterates the integers from 1 to 60\n",
    "for i in range(1,61):\n",
    "    if i%3==0:\n",
    "        print(\"fizz\")\n",
    "    elif i%5==0:\n",
    "        print(\"Buzz\")\n",
    "    elif i%3==0 and i%5==0:\n",
    "        print(\"fizzbuzz\")\n",
    "    else:\n",
    "        print(i)"
   ]
  },
  {
   "cell_type": "code",
   "execution_count": 15,
   "id": "a223fdc9",
   "metadata": {},
   "outputs": [],
   "source": [
    "#7.Write a Python program that accepts a string and calculate the number of digits and letters "
   ]
  },
  {
   "cell_type": "code",
   "execution_count": 18,
   "id": "42cc02f4",
   "metadata": {},
   "outputs": [
    {
     "name": "stdout",
     "output_type": "stream",
     "text": [
      "enter a string : 1612plbike\n",
      "letters :  6\n",
      "digits : 4\n"
     ]
    }
   ],
   "source": [
    "#accept a string from the user\n",
    "var1 = input(\"enter a string : \")\n",
    "var2 = 0\n",
    "var3 = 0\n",
    "for i in range(0,len(var1)):\n",
    "    if var1[i].isalpha():\n",
    "        var2+=1\n",
    "    elif var1[i].isdigit():\n",
    "        var3+=1\n",
    "    else:\n",
    "        pass\n",
    "    \n",
    "#print the result\n",
    "print(\"letters : \", var2)\n",
    "print(\"digits :\",var3)    "
   ]
  },
  {
   "cell_type": "code",
   "execution_count": null,
   "id": "21d381c0",
   "metadata": {},
   "outputs": [],
   "source": [
    "#9. Write a program in Python to reverse a word by using while loop "
   ]
  },
  {
   "cell_type": "code",
   "execution_count": 19,
   "id": "7af5e274",
   "metadata": {},
   "outputs": [
    {
     "name": "stdout",
     "output_type": "stream",
     "text": [
      "enter a string : donkey\n",
      "Reverse string is: yeknod\n"
     ]
    }
   ],
   "source": [
    "#accept a string from the user\n",
    "x = input(\"enter a string : \")\n",
    "y = len(x)-1\n",
    "z = \"\"\n",
    "\n",
    "#using while loop \n",
    "\n",
    "while len(z)<len(x):\n",
    "    z+=x[y]\n",
    "    y-=1\n",
    "#print the result\n",
    "\n",
    "print(\"Reverse string is:\", z)"
   ]
  },
  {
   "cell_type": "code",
   "execution_count": 20,
   "id": "fc5fb35a",
   "metadata": {},
   "outputs": [],
   "source": [
    "#10. Write a program which takes 10 integers as input using loop and print their average value on the screen"
   ]
  },
  {
   "cell_type": "code",
   "execution_count": 17,
   "id": "9b2499ca",
   "metadata": {},
   "outputs": [
    {
     "name": "stdout",
     "output_type": "stream",
     "text": [
      "enter a number : 1\n",
      "enter a number : 2\n",
      "enter a number : 3\n",
      "enter a number : 4\n",
      "enter a number : 5\n",
      "enter a number : 6\n",
      "enter a number : 7\n",
      "enter a number : 8\n",
      "enter a number : 9\n",
      "enter a number : 10\n",
      "average is : 10/10=6.5\n"
     ]
    }
   ],
   "source": [
    "a = 10\n",
    "\n",
    "# using for loop concept \n",
    "\n",
    "for i in range(1,11):\n",
    "# accept a number from the user\n",
    "     x= int(input(\"enter a number : \"))\n",
    "     a+=x\n",
    "\n",
    "#printing average value on the screen\n",
    "\n",
    "print(\"average is : {}/{}={}\".format(i,x, a/10))"
   ]
  },
  {
   "cell_type": "code",
   "execution_count": 2,
   "id": "cc9bec99",
   "metadata": {},
   "outputs": [],
   "source": [
    "#11. Write a program which takes integer inputs from user until he/she presses “q” (Ask to press q to quit after every integer input). Print average and product of all numbers"
   ]
  },
  {
   "cell_type": "code",
   "execution_count": 18,
   "id": "cf2b3ee9",
   "metadata": {},
   "outputs": [
    {
     "name": "stdout",
     "output_type": "stream",
     "text": [
      "Enter a number: 1\n",
      "Press q to quit a\n",
      "Enter a number: 2\n",
      "Press q to quit b\n",
      "Enter a number: 3\n",
      "Press q to quit c\n",
      "Enter a number: 4\n",
      "Press q to quit d\n",
      "Enter a number: 5\n",
      "Press q to quit q\n",
      "Sum is  15\n",
      "Product is  120\n"
     ]
    }
   ],
   "source": [
    "# which takes integer inputs from the user\n",
    "p=0\n",
    "x=\" \"\n",
    "l=1\n",
    "\n",
    "# using while loop\n",
    "\n",
    "while x.lower()!='q':\n",
    "    \n",
    "#accept a number from the user\n",
    "\n",
    "    y=int(input(\"Enter a number: \")) \n",
    "    p+=y\n",
    "    l*=y\n",
    "    x=input(\"Press q to quit \")\n",
    "    \n",
    "# print the sum and product on the screen\n",
    "\n",
    "print(\"Sum is \",p)\n",
    "print(\"Product is \",l)"
   ]
  },
  {
   "cell_type": "code",
   "execution_count": null,
   "id": "9dbfc284",
   "metadata": {},
   "outputs": [],
   "source": [
    "#12. Write a Python program which will remove all digits or any other characters from the string except alphabets"
   ]
  },
  {
   "cell_type": "code",
   "execution_count": 26,
   "id": "0e6b0033",
   "metadata": {},
   "outputs": [
    {
     "name": "stdout",
     "output_type": "stream",
     "text": [
      "Enter a string: aBCdef@#$123\n",
      "aBCdef\n"
     ]
    }
   ],
   "source": [
    "# accept the string from the user\n",
    "ammu=input(\"Enter a string: \")\n",
    "chinnu=\"\"\n",
    "#using for loop concept\n",
    "\n",
    "for i in range(0,len(ammu)):\n",
    "    \n",
    "#  remove all digits or any other characters from the string except alphabets\n",
    "\n",
    "    if ammu[i].isalpha():\n",
    "        chinnu+=ammu[i]\n",
    "    else:\n",
    "        continue\n",
    "        \n",
    "#print the result\n",
    "\n",
    "print(chinnu)"
   ]
  },
  {
   "cell_type": "code",
   "execution_count": null,
   "id": "37c6af55",
   "metadata": {},
   "outputs": [],
   "source": [
    "# 13. Write a python program to find the sum of all even numbers from 0 to 10"
   ]
  },
  {
   "cell_type": "code",
   "execution_count": 27,
   "id": "215a9031",
   "metadata": {},
   "outputs": [
    {
     "name": "stdout",
     "output_type": "stream",
     "text": [
      "sum of even numbers is :  30\n"
     ]
    }
   ],
   "source": [
    "x = 0\n",
    "# using for loop \n",
    "for i in range(1,11):\n",
    "    \n",
    "#the sum of all even numbers from 0 to 10\n",
    "    if i%2 == 0:\n",
    "        x+=i\n",
    "    else:\n",
    "        continue\n",
    "        \n",
    "# print the sum of even numbers\n",
    "\n",
    "print(\"sum of even numbers is : \", x)\n",
    "        "
   ]
  },
  {
   "cell_type": "code",
   "execution_count": 28,
   "id": "251be41d",
   "metadata": {},
   "outputs": [],
   "source": [
    "#14. Write a python program which will accept a digit and print All the numbers before it till 0\n"
   ]
  },
  {
   "cell_type": "code",
   "execution_count": 29,
   "id": "711c74d3",
   "metadata": {},
   "outputs": [
    {
     "name": "stdout",
     "output_type": "stream",
     "text": [
      "enter a number : 8\n",
      "7\n",
      "6\n",
      "5\n",
      "4\n",
      "3\n",
      "2\n",
      "1\n",
      "0\n"
     ]
    }
   ],
   "source": [
    "# accept the number from the user\n",
    "x = int(input(\"enter a number : \"))\n",
    "for i in range(x-1,-1,-1):\n",
    "    print(i)"
   ]
  },
  {
   "cell_type": "code",
   "execution_count": 30,
   "id": "2e8de323",
   "metadata": {},
   "outputs": [],
   "source": [
    "#15. Create a dynamic calculator which will run continually till you press \"c\""
   ]
  },
  {
   "cell_type": "code",
   "execution_count": 33,
   "id": "f4988c50",
   "metadata": {},
   "outputs": [
    {
     "name": "stdout",
     "output_type": "stream",
     "text": [
      "enter any number: 6\n",
      "enter any symbol +, -, *, /, %, **, // : +\n",
      "enter any number: 7\n",
      "6+7=13\n",
      "enter any number: 8\n",
      "enter any symbol +, -, *, /, %, **, // : -\n",
      "enter any number: 4\n",
      "8-4=4\n",
      "enter any number: 5\n",
      "enter any symbol +, -, *, /, %, **, // : *\n",
      "enter any number: 2\n",
      "5*2=10\n",
      "enter any number: 4\n",
      "enter any symbol +, -, *, /, %, **, // : /\n",
      "enter any number: 2\n",
      "4/2=2\n",
      "enter any number: 8\n",
      "enter any symbol +, -, *, /, %, **, // : %\n",
      "enter any number: 2\n",
      "8%2=0\n",
      "enter any number: c\n"
     ]
    }
   ],
   "source": [
    "while True:\n",
    "    x = input(\"enter any number: \")\n",
    "    if x==\"c\":\n",
    "        break\n",
    "    else:\n",
    "        y=int(x)\n",
    "        operation=input(\"enter any symbol +, -, *, /, %, **, // : \")\n",
    "        z = int(input(\"enter any number: \"))\n",
    "    if operation == \"+\":\n",
    "        print(\"{}+{}={}\".format(y, z, y+z))\n",
    "    elif operation ==\"-\":\n",
    "        print(\"{}-{}={}\".format(y, z, y-z))\n",
    "    elif operation == \"*\":\n",
    "        print(\"{}*{}={}\".format(y, z, y*z))\n",
    "    elif operation ==\"/\":\n",
    "        print(\"{}/{}={}\".format(y, z, int(y/z)))\n",
    "    elif operation == \"%\":\n",
    "        print(\"{}%{}={}\".format(y, z, int(y%z)))\n",
    "    elif operation == \"**\":\n",
    "        print(\"{}**{}={}\".format(y, z, int(y**z)))\n",
    "    elif operation == \"//\":\n",
    "        print(\"{}//{}={}\".format(y, z, int(y//z)))\n",
    "    else:\n",
    "        print(\"enter correct operation\")\n",
    "    "
   ]
  },
  {
   "cell_type": "code",
   "execution_count": null,
   "id": "8533c4f9",
   "metadata": {},
   "outputs": [],
   "source": []
  }
 ],
 "metadata": {
  "kernelspec": {
   "display_name": "Python 3 (ipykernel)",
   "language": "python",
   "name": "python3"
  },
  "language_info": {
   "codemirror_mode": {
    "name": "ipython",
    "version": 3
   },
   "file_extension": ".py",
   "mimetype": "text/x-python",
   "name": "python",
   "nbconvert_exporter": "python",
   "pygments_lexer": "ipython3",
   "version": "3.11.3"
  }
 },
 "nbformat": 4,
 "nbformat_minor": 5
}
