{
 "cells": [
  {
   "cell_type": "code",
   "execution_count": 1,
   "id": "a2f7cea2",
   "metadata": {},
   "outputs": [],
   "source": [
    "# 1. write a program to accept two numbers from the user and calculate multiplication, division"
   ]
  },
  {
   "cell_type": "code",
   "execution_count": 2,
   "id": "e334307e",
   "metadata": {},
   "outputs": [
    {
     "name": "stdout",
     "output_type": "stream",
     "text": [
      "Enter the first number: 2\n",
      "Enter the second number: 4\n",
      "Enter the operation (* for multiplication, / for division): *\n",
      "Multiplication: 8\n"
     ]
    }
   ],
   "source": [
    "# Accept two numbers from the user\n",
    "num1 = int(input(\"Enter the first number: \"))\n",
    "num2 = int(input(\"Enter the second number: \"))\n",
    "y = input(\"Enter the operation (* for multiplication, / for division): \")\n",
    "\n",
    "# Define a dictionary to map operation symbols to their corresponding operations\n",
    "x = {\n",
    "    '*': ('Multiplication', num1 * num2),\n",
    "    '/': ('Division', num1 / num2) ,\n",
    "}\n",
    "\n",
    "# Check if the operation symbol exists in the dictionary\n",
    "if y in x:\n",
    "    z, result = x[y]\n",
    "    print(\"{}: {}\".format(z, result))\n",
    "\n",
    "\n",
    "\n"
   ]
  },
  {
   "cell_type": "code",
   "execution_count": 3,
   "id": "1c557c2f",
   "metadata": {},
   "outputs": [],
   "source": [
    "#2. write a python program to print the characters from a string that are present at an even index"
   ]
  },
  {
   "cell_type": "code",
   "execution_count": 4,
   "id": "797961a9",
   "metadata": {},
   "outputs": [
    {
     "name": "stdout",
     "output_type": "stream",
     "text": [
      "Enter a string: Data scientist\n",
      "D t   c e t s "
     ]
    }
   ],
   "source": [
    "# Accept a string from the user\n",
    "x = input(\"Enter a string: \")\n",
    "\n",
    "# Print characters at even indices\n",
    "for y in range(0, len(x), 2):\n",
    "    print(x[y], end=\" \")"
   ]
  },
  {
   "cell_type": "code",
   "execution_count": 5,
   "id": "fd719845",
   "metadata": {},
   "outputs": [],
   "source": [
    "#3.  write a python program to print the characters from a string that are present at an odd index"
   ]
  },
  {
   "cell_type": "code",
   "execution_count": 6,
   "id": "18aad90f",
   "metadata": {},
   "outputs": [
    {
     "name": "stdout",
     "output_type": "stream",
     "text": [
      "Enter a string: chushritha\n",
      "h s r t a "
     ]
    }
   ],
   "source": [
    "# Accept a string from the user\n",
    "x = input(\"Enter a string: \")\n",
    "\n",
    "# Print characters at odd indices\n",
    "for y in range(1, len(x), 2):\n",
    "    print(x[y], end=\" \")"
   ]
  },
  {
   "cell_type": "code",
   "execution_count": 7,
   "id": "158c0e08",
   "metadata": {},
   "outputs": [],
   "source": [
    "#4. write a python program which will print the sum of the two numbers if the two numbers are even or it will print the difference of two numbers"
   ]
  },
  {
   "cell_type": "code",
   "execution_count": 8,
   "id": "d070414d",
   "metadata": {},
   "outputs": [
    {
     "name": "stdout",
     "output_type": "stream",
     "text": [
      "Enter the first number: 4\n",
      "Enter the second number: 6\n",
      "Both numbers are even. Sum: 10\n"
     ]
    }
   ],
   "source": [
    "# Accept two numbers from the user\n",
    "x = int(input(\"Enter the first number: \"))\n",
    "y = int(input(\"Enter the second number: \"))\n",
    "\n",
    "# Check if both numbers are even\n",
    "if x % 2 == 0 and y % 2 == 0:\n",
    "    result = x + y\n",
    "    print(\"Both numbers are even. Sum:\", result)\n",
    "else:\n",
    "    result = x - y\n",
    "    print(\"Numbers are not both even. Difference:\", result)"
   ]
  },
  {
   "cell_type": "code",
   "execution_count": 9,
   "id": "79e1474f",
   "metadata": {},
   "outputs": [],
   "source": [
    "#5. Write a python program to convert all even indexed alphabets to upper and odd indexed char"
   ]
  },
  {
   "cell_type": "code",
   "execution_count": 10,
   "id": "57c8d584",
   "metadata": {},
   "outputs": [
    {
     "name": "stdout",
     "output_type": "stream",
     "text": [
      "Enter a string: kiran\n",
      "KiRaN\n"
     ]
    }
   ],
   "source": [
    "# Accept a string from the user\n",
    "x = input(\"Enter a string: \")\n",
    "\n",
    "# Initialize an empty string to store the result\n",
    "result = \"\"\n",
    "\n",
    "# Convert characters based on their index\n",
    "for y, char in enumerate(x):\n",
    "    if y % 2 == 0:  # Even index\n",
    "        result += char.upper()\n",
    "    else:\n",
    "        result += char.lower()\n",
    "\n",
    "# Print the modified string\n",
    "print(result)"
   ]
  },
  {
   "cell_type": "code",
   "execution_count": 11,
   "id": "468ad1d2",
   "metadata": {},
   "outputs": [],
   "source": [
    "#6. Write a python program which will print True if the input number is divisible by 5 or else False"
   ]
  },
  {
   "cell_type": "code",
   "execution_count": 12,
   "id": "053d05ba",
   "metadata": {},
   "outputs": [
    {
     "name": "stdout",
     "output_type": "stream",
     "text": [
      "Enter a number: 15\n",
      "True\n"
     ]
    }
   ],
   "source": [
    "# Accept a number from the user\n",
    "x = int(input(\"Enter a number: \"))\n",
    "\n",
    "# Check if the number is divisible by 5\n",
    "y= x % 5 == 0\n",
    "\n",
    "# Print the result\n",
    "print(y)"
   ]
  },
  {
   "cell_type": "code",
   "execution_count": 13,
   "id": "eaf08f2d",
   "metadata": {},
   "outputs": [],
   "source": [
    "#7. Given two integer numbers return their product only if the product is greater than 1000, else return their sum"
   ]
  },
  {
   "cell_type": "code",
   "execution_count": 14,
   "id": "67ea1373",
   "metadata": {},
   "outputs": [
    {
     "name": "stdout",
     "output_type": "stream",
     "text": [
      "Enter the first number: 500\n",
      "Enter the second number: 515\n",
      "257500\n"
     ]
    }
   ],
   "source": [
    "# Accept two integer numbers from the user\n",
    "x = int(input(\"Enter the first number: \"))\n",
    "y = int(input(\"Enter the second number: \"))\n",
    "\n",
    "# Calculate product and sum\n",
    "product = x * y\n",
    "sum_ = x + y\n",
    "\n",
    "# Check if product is greater than 1000\n",
    "if product > 1000:\n",
    "    result = product\n",
    "else:\n",
    "    result = sum_\n",
    "\n",
    "# Print the result\n",
    "print(result)"
   ]
  },
  {
   "cell_type": "code",
   "execution_count": 15,
   "id": "afdc1e90",
   "metadata": {},
   "outputs": [],
   "source": [
    "#8. Given two strings x, y writes a program to return a new string made of x and y’s first, middle, and last characters"
   ]
  },
  {
   "cell_type": "code",
   "execution_count": 16,
   "id": "5b442186",
   "metadata": {},
   "outputs": [
    {
     "name": "stdout",
     "output_type": "stream",
     "text": [
      "Enter the first string: sivakumar\n",
      "Enter the second string: victoriya rani\n",
      "skrvyi\n"
     ]
    }
   ],
   "source": [
    "# Accept two strings from the user\n",
    "x = input(\"Enter the first string: \")\n",
    "y = input(\"Enter the second string: \")\n",
    "\n",
    "# Get the first, middle, and last characters from x\n",
    "x_first = x[0]\n",
    "x_middle = x[len(x) // 2]\n",
    "x_last = x[-1]\n",
    "\n",
    "# Get the first, middle, and last characters from y\n",
    "y_first = y[0]\n",
    "y_middle = y[len(y) // 2]\n",
    "y_last = y[-1]\n",
    "\n",
    "# Create the new string\n",
    "z = x_first + x_middle + x_last + y_first + y_middle + y_last\n",
    "\n",
    "# Print the new string\n",
    "print(z)"
   ]
  },
  {
   "cell_type": "code",
   "execution_count": 17,
   "id": "a04dece8",
   "metadata": {},
   "outputs": [],
   "source": [
    "#9. Write a python program to take three names as input from a user in the single input () function call"
   ]
  },
  {
   "cell_type": "code",
   "execution_count": 18,
   "id": "b97ece4d",
   "metadata": {},
   "outputs": [
    {
     "name": "stdout",
     "output_type": "stream",
     "text": [
      "Enter three names separated by spaces: ammu chinnu nancy\n",
      "Names: ['ammu', 'chinnu', 'nancy']\n"
     ]
    }
   ],
   "source": [
    "# Accept three names from the user\n",
    "names = input(\"Enter three names separated by spaces: \")\n",
    "\n",
    "# Split the input string into a list of names\n",
    "name_list= names.split()\n",
    "\n",
    "# Print the list of names\n",
    "print(\"Names:\", name_list)"
   ]
  },
  {
   "cell_type": "code",
   "execution_count": 25,
   "id": "a16e5b4c",
   "metadata": {},
   "outputs": [],
   "source": [
    "#11. Write a Python program to add 'ing' at the end of a given string (string length should be equal to or more than 3). If the given string already ends with 'ing' then add 'ly' instead. If the string length of the given string is less than 3, leave it unchanged"
   ]
  },
  {
   "cell_type": "code",
   "execution_count": 27,
   "id": "f370e869",
   "metadata": {},
   "outputs": [
    {
     "name": "stdout",
     "output_type": "stream",
     "text": [
      "Enter a string: sleep\n",
      "sleeping\n"
     ]
    }
   ],
   "source": [
    "# Accept a string from the user\n",
    "var1 = input(\"Enter a string: \")\n",
    "\n",
    "# Check the length of the string\n",
    "if len(var1) >= 3:\n",
    "    if var1.endswith('ing'):\n",
    "        var2 = var1 + 'ly'\n",
    "    else:\n",
    "        var2 = var1 + 'ing'\n",
    "else:\n",
    "    var2 = var1\n",
    "\n",
    "# Print the modified string\n",
    "print(var2)"
   ]
  },
  {
   "cell_type": "code",
   "execution_count": 28,
   "id": "9ae9b3ac",
   "metadata": {},
   "outputs": [],
   "source": [
    "#12.  Write a python program that accepts two inputs num1 and num2 print True if one of them is 10 or if their sum is 10otherwise print False"
   ]
  },
  {
   "cell_type": "code",
   "execution_count": 29,
   "id": "20caba16",
   "metadata": {},
   "outputs": [
    {
     "name": "stdout",
     "output_type": "stream",
     "text": [
      "Enter the first number: 16\n",
      "Enter the second number: 12\n",
      "False\n"
     ]
    }
   ],
   "source": [
    "# Accept two numbers from the user\n",
    "num1 = int(input(\"Enter the first number: \"))\n",
    "num2 = int(input(\"Enter the second number: \"))\n",
    "\n",
    "# Check the conditions and print the result\n",
    "if num1 == 10 or num2 == 10 or num1 + num2 == 10:\n",
    "    print(\"True\")\n",
    "else:\n",
    "    print(\"False\")"
   ]
  },
  {
   "cell_type": "code",
   "execution_count": 30,
   "id": "346bacdf",
   "metadata": {},
   "outputs": [],
   "source": [
    "#13.  Write a python program that accepts three inputs x, y and z print True if x*y>z otherwise False"
   ]
  },
  {
   "cell_type": "code",
   "execution_count": 1,
   "id": "e47ff06d",
   "metadata": {},
   "outputs": [
    {
     "name": "stdout",
     "output_type": "stream",
     "text": [
      "Enter the value of x: 7\n",
      "Enter the value of y: 10\n",
      "Enter the value of z: 4\n",
      "True\n"
     ]
    }
   ],
   "source": [
    "# Accept three numbers from the user\n",
    "x = int(input(\"Enter the value of x: \"))\n",
    "y = int(input(\"Enter the value of y: \"))\n",
    "z = int(input(\"Enter the value of z: \"))\n",
    "\n",
    "# Check the condition and print the result\n",
    "if x * y > z:\n",
    "    print(\"True\")\n",
    "else:\n",
    "    print(\"False\")"
   ]
  },
  {
   "cell_type": "code",
   "execution_count": 2,
   "id": "f2c541c8",
   "metadata": {},
   "outputs": [],
   "source": [
    "#14. Write a python program that accepts two strings inputs return True depending on whether the total number of characters in the first string is equal to the total number of characters in the second string"
   ]
  },
  {
   "cell_type": "code",
   "execution_count": 3,
   "id": "69f96d8d",
   "metadata": {},
   "outputs": [
    {
     "name": "stdout",
     "output_type": "stream",
     "text": [
      "Enter the first string: pinky\n",
      "Enter the second string: donkey\n",
      "False\n"
     ]
    }
   ],
   "source": [
    "# Accept two string inputs from the user\n",
    "string1 = input(\"Enter the first string: \")\n",
    "string2 = input(\"Enter the second string: \")\n",
    "\n",
    "# Check the condition and print the result\n",
    "if len(string1) == len(string2):\n",
    "    print(\"True\")\n",
    "else:\n",
    "    print(\"False\")"
   ]
  },
  {
   "cell_type": "code",
   "execution_count": 4,
   "id": "a7bcd0bf",
   "metadata": {},
   "outputs": [],
   "source": [
    "#15. Write a python program that takes a string input, we'll say that the front is the first three characters of the string. If the string length is less than three characters, the front is whatever is there. Return a new string, which is three copies of the front"
   ]
  },
  {
   "cell_type": "code",
   "execution_count": 5,
   "id": "8c8fd1d8",
   "metadata": {},
   "outputs": [
    {
     "name": "stdout",
     "output_type": "stream",
     "text": [
      "Enter a string: amma\n",
      "ammammamm\n"
     ]
    }
   ],
   "source": [
    "# Accept a string input from the user\n",
    "x = input(\"Enter a string: \")\n",
    "\n",
    "# Get the front of the string\n",
    "front = x[:3]\n",
    "\n",
    "# Create the new string with three copies of the front\n",
    "y = front * 3\n",
    "\n",
    "# Print the new string\n",
    "print(y)"
   ]
  },
  {
   "cell_type": "code",
   "execution_count": 6,
   "id": "9ffeca59",
   "metadata": {},
   "outputs": [],
   "source": [
    "#16. Write a python program that takes in a word and determines whether or not it is plural. A plural word is one that ends in \"s\"."
   ]
  },
  {
   "cell_type": "code",
   "execution_count": 1,
   "id": "c8cc271d",
   "metadata": {},
   "outputs": [
    {
     "name": "stdout",
     "output_type": "stream",
     "text": [
      "Enter a word: sacrifices\n",
      "True\n"
     ]
    }
   ],
   "source": [
    "# Accept a word input from the user\n",
    "word = input(\"Enter a word: \")\n",
    "\n",
    "# Check if the word ends with \"s\"\n",
    "set1 = word.endswith(\"s\")\n",
    "\n",
    "# Print the result\n",
    "print(set1)"
   ]
  },
  {
   "cell_type": "code",
   "execution_count": 2,
   "id": "72523dcf",
   "metadata": {},
   "outputs": [],
   "source": [
    "#19. Write a python program that takes a string, breaks it up and returns it with vowels first, consonants second. For any character that's not a vowel (like special characters or spaces), treat them like consonants"
   ]
  },
  {
   "cell_type": "code",
   "execution_count": 3,
   "id": "ab90e4c7",
   "metadata": {},
   "outputs": [
    {
     "name": "stdout",
     "output_type": "stream",
     "text": [
      "Enter a string: naandhika\n",
      "aaianndhk\n"
     ]
    }
   ],
   "source": [
    "# Accept a string input from the user\n",
    "input_string = input(\"Enter a string: \")\n",
    "\n",
    "# Initialize strings to store vowels and consonants\n",
    "vowels = \"\"\n",
    "consonants = \"\"\n",
    "\n",
    "# Loop through each character in the input string\n",
    "for char in input_string:\n",
    "    if char.isalpha():\n",
    "        if char.lower() in 'aeiou':\n",
    "            vowels += char\n",
    "        else:\n",
    "            consonants += char\n",
    "\n",
    "# Create the new string with vowels followed by consonants\n",
    "new_string = vowels + consonants\n",
    "\n",
    "# Print the new string\n",
    "print(new_string)"
   ]
  },
  {
   "cell_type": "code",
   "execution_count": 4,
   "id": "517b392a",
   "metadata": {},
   "outputs": [],
   "source": [
    "#20. Create a dynamic calculator which asks for numbers and operator and return the answers"
   ]
  },
  {
   "cell_type": "code",
   "execution_count": 1,
   "id": "2ead0d99",
   "metadata": {},
   "outputs": [
    {
     "name": "stdout",
     "output_type": "stream",
     "text": [
      "enter your first num:4\n",
      " enter your second num: 6\n",
      "enter the symbol +,-,/,%,*,**,// : +\n",
      "4+6=10\n",
      "enter your first num:3\n",
      " enter your second num: 9\n",
      "enter the symbol +,-,/,%,*,**,// : a\n"
     ]
    }
   ],
   "source": [
    "while(2==2):\n",
    "    x=int(input(\"enter your first num:\"))\n",
    "    y=int(input(\" enter your second num: \"))\n",
    "    c=input(\"enter the symbol +,-,/,%,*,**,// : \")\n",
    "    if(c==\"+\"):\n",
    "        print(\"{}+{}={}\".format(x,y,x+y))\n",
    "    elif(c==\"-\"):\n",
    "        print(\"{}-{}={}\".format(x,y,x-y))\n",
    "    elif(c==\"*\"):\n",
    "        print(\"{}*{}={}\".format(x,y,x*y))\n",
    "    elif(c==\"/\"):\n",
    "        print(\"{}/{}={}\".format(x,y,x/y))\n",
    "    elif(c==\"**\"):\n",
    "        print(\"{}**{}={}\".format(x,y,x**y))\n",
    "    elif(c==\"%\"):\n",
    "        print(\"{}%{}={}\".format(x,y,x%y))\n",
    "    elif(c.lower()==\"a\"):\n",
    "        break\n",
    "    else:\n",
    "        print(\"enter either correct symbolor a\")"
   ]
  },
  {
   "cell_type": "code",
   "execution_count": null,
   "id": "1675c2ca",
   "metadata": {},
   "outputs": [],
   "source": []
  }
 ],
 "metadata": {
  "kernelspec": {
   "display_name": "Python 3 (ipykernel)",
   "language": "python",
   "name": "python3"
  },
  "language_info": {
   "codemirror_mode": {
    "name": "ipython",
    "version": 3
   },
   "file_extension": ".py",
   "mimetype": "text/x-python",
   "name": "python",
   "nbconvert_exporter": "python",
   "pygments_lexer": "ipython3",
   "version": "3.11.3"
  }
 },
 "nbformat": 4,
 "nbformat_minor": 5
}
