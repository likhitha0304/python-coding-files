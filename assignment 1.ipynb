{
 "cells": [
  {
   "cell_type": "code",
   "execution_count": 2,
   "id": "3f994755",
   "metadata": {},
   "outputs": [],
   "source": [
    "#1.write a python program to convert a string to lower case"
   ]
  },
  {
   "cell_type": "code",
   "execution_count": 3,
   "id": "611117f3",
   "metadata": {},
   "outputs": [
    {
     "data": {
      "text/plain": [
       "'glorious'"
      ]
     },
     "execution_count": 3,
     "metadata": {},
     "output_type": "execute_result"
    }
   ],
   "source": [
    "x=\"GLOrioUS\"\n",
    "x.lower()"
   ]
  },
  {
   "cell_type": "code",
   "execution_count": 4,
   "id": "8fd571b6",
   "metadata": {},
   "outputs": [],
   "source": [
    "#2.write a python program to convert only odd indexed characters to lower case"
   ]
  },
  {
   "cell_type": "code",
   "execution_count": 5,
   "id": "66b00e85",
   "metadata": {},
   "outputs": [
    {
     "data": {
      "text/plain": [
       "'ShRiTha'"
      ]
     },
     "execution_count": 5,
     "metadata": {},
     "output_type": "execute_result"
    }
   ],
   "source": [
    "x1=\"SHRITHA\"\n",
    "x1[0]+x1[1].lower()+x1[2]+x1[3].lower()+x1[4]+x1[5].lower()+x1[6].lower()"
   ]
  },
  {
   "cell_type": "code",
   "execution_count": 6,
   "id": "da686c6d",
   "metadata": {},
   "outputs": [],
   "source": [
    "#3.write a python program to convert only even indexed characters to lower case"
   ]
  },
  {
   "cell_type": "code",
   "execution_count": 7,
   "id": "a52b77ad",
   "metadata": {},
   "outputs": [
    {
     "data": {
      "text/plain": [
       "'cHuShRiTha'"
      ]
     },
     "execution_count": 7,
     "metadata": {},
     "output_type": "execute_result"
    }
   ],
   "source": [
    "x2=\"CHUSHRITHA\"\n",
    "x2[0].lower()+x2[1]+x2[2].lower()+x2[3]+x2[4].lower()+x2[5]+x2[6].lower()+x2[7]+x2[8].lower()+x2[9].lower()"
   ]
  },
  {
   "cell_type": "code",
   "execution_count": 8,
   "id": "36e79a9c",
   "metadata": {},
   "outputs": [],
   "source": [
    "#4.write a python program to convert only odd indexed characters to upper case"
   ]
  },
  {
   "cell_type": "code",
   "execution_count": 9,
   "id": "d8a61626",
   "metadata": {},
   "outputs": [
    {
     "data": {
      "text/plain": [
       "'kArUnA'"
      ]
     },
     "execution_count": 9,
     "metadata": {},
     "output_type": "execute_result"
    }
   ],
   "source": [
    "x3=\"karuna\"\n",
    "x3[0]+x3[1].upper()+x3[2]+x3[3].upper()+x3[4]+x3[5].upper()"
   ]
  },
  {
   "cell_type": "code",
   "execution_count": 10,
   "id": "4d0ab152",
   "metadata": {},
   "outputs": [],
   "source": [
    "#5.write a python program to convert only even indexed characters to upper case"
   ]
  },
  {
   "cell_type": "code",
   "execution_count": 12,
   "id": "13078f02",
   "metadata": {},
   "outputs": [
    {
     "data": {
      "text/plain": [
       "'ChUsHrItHA'"
      ]
     },
     "execution_count": 12,
     "metadata": {},
     "output_type": "execute_result"
    }
   ],
   "source": [
    "x4=\"chushritha\"\n",
    "x4[0].upper()+x4[1]+x4[2].upper()+x4[3]+x4[4].upper()+x4[5]+x4[6].upper()+x4[7]+x4[8].upper()+x4[9].upper()"
   ]
  },
  {
   "cell_type": "code",
   "execution_count": 13,
   "id": "50065e72",
   "metadata": {},
   "outputs": [],
   "source": [
    "#6.Write a python program where you have different variable which contains your name, sex,age, Phone number,father's name and mothers name. And by using this variable create a variable named bio-data where you will use all this variable"
   ]
  },
  {
   "cell_type": "code",
   "execution_count": 14,
   "id": "8531bfb5",
   "metadata": {},
   "outputs": [
    {
     "name": "stdout",
     "output_type": "stream",
     "text": [
      "Enter your name: likhitha\n",
      "Enter your sex (Male/Female/Other): famale\n",
      "Enter your age: 20\n",
      "Enter your phone number: 9701179314\n",
      "Enter your father's name: siva kumar\n",
      "Enter your mother's name: victoria rani\n",
      "\n",
      "Name: likhitha\n",
      "Sex: famale\n",
      "Age: 20\n",
      "Phone Number: 9701179314\n",
      "Father's Name: siva kumar\n",
      "Mother's Name: victoria rani\n",
      "\n"
     ]
    }
   ],
   "source": [
    "# Taking user input\n",
    "name = input(\"Enter your name: \")\n",
    "sex = input(\"Enter your sex (Male/Female/Other): \")\n",
    "age = int(input(\"Enter your age: \"))\n",
    "phone_number = input(\"Enter your phone number: \")\n",
    "father_name = input(\"Enter your father's name: \")\n",
    "mother_name = input(\"Enter your mother's name: \")\n",
    "\n",
    "# Creating bio-data using string concatenation\n",
    "bio_data = \"\\nName: \" + name + \"\\nSex: \" + sex + \"\\nAge: \" + str(age) + \"\\nPhone Number: \" + phone_number + \"\\nFather's Name: \" + father_name + \"\\nMother's Name: \" + mother_name + \"\\n\"\n",
    "\n",
    "# Displaying the bio-data\n",
    "print(bio_data)"
   ]
  },
  {
   "cell_type": "code",
   "execution_count": 15,
   "id": "7d0000f2",
   "metadata": {},
   "outputs": [],
   "source": [
    "#7.write a python program to count how many times \"@\" occurred"
   ]
  },
  {
   "cell_type": "code",
   "execution_count": 17,
   "id": "c00e7a5f",
   "metadata": {},
   "outputs": [
    {
     "data": {
      "text/plain": [
       "15"
      ]
     },
     "execution_count": 17,
     "metadata": {},
     "output_type": "execute_result"
    }
   ],
   "source": [
    "x5=\"@@@@@@chinnu@@@@@@@@@\"\n",
    "x5.count(\"@\")"
   ]
  },
  {
   "cell_type": "code",
   "execution_count": 18,
   "id": "f5a7f04e",
   "metadata": {},
   "outputs": [],
   "source": [
    "#8.write a python program to get only names from the string "
   ]
  },
  {
   "cell_type": "code",
   "execution_count": 20,
   "id": "c56bb624",
   "metadata": {},
   "outputs": [
    {
     "name": "stdout",
     "output_type": "stream",
     "text": [
      "name1,name2,name3\n"
     ]
    }
   ],
   "source": [
    "x6=\"name1.@gmail.com,name2.@gmail.com,name3.@gmail.com\"\n",
    "print(x6.replace(\".@gmail.com\",\"\"))"
   ]
  },
  {
   "cell_type": "code",
   "execution_count": 21,
   "id": "7470e733",
   "metadata": {},
   "outputs": [],
   "source": [
    "#9.Given a string of odd length greater that 9,return a new string made of the middle three characters of a given string"
   ]
  },
  {
   "cell_type": "code",
   "execution_count": 22,
   "id": "d7890060",
   "metadata": {},
   "outputs": [
    {
     "name": "stdout",
     "output_type": "stream",
     "text": [
      "mei\n"
     ]
    }
   ],
   "source": [
    "x7=\"mynameissan\"\n",
    "length=len(x7)\n",
    "center=length//2\n",
    "print(x7[center-1]+x7[center]+x7[center+1])"
   ]
  },
  {
   "cell_type": "code",
   "execution_count": 23,
   "id": "95fed633",
   "metadata": {},
   "outputs": [],
   "source": [
    "#10.write a python program to insert a 2 string in the middle of 1 string"
   ]
  },
  {
   "cell_type": "code",
   "execution_count": 25,
   "id": "62945007",
   "metadata": {},
   "outputs": [
    {
     "name": "stdout",
     "output_type": "stream",
     "text": [
      "likki\n"
     ]
    }
   ],
   "source": [
    "x8=\"li\"\n",
    "x9=\"ikk\"\n",
    "center=len(x8)//2\n",
    "print(x8[:center]+x9+x8[center:])"
   ]
  },
  {
   "cell_type": "code",
   "execution_count": 26,
   "id": "2001ab34",
   "metadata": {},
   "outputs": [],
   "source": [
    "# 11.Write a program to remove vowels from the entire alphabets "
   ]
  },
  {
   "cell_type": "code",
   "execution_count": 27,
   "id": "5a47e825",
   "metadata": {},
   "outputs": [
    {
     "data": {
      "text/plain": [
       "'bcdfghjklmnpqrstvwxyz'"
      ]
     },
     "execution_count": 27,
     "metadata": {},
     "output_type": "execute_result"
    }
   ],
   "source": [
    "alp = \"abcdefghijklmnopqrstuvwxyz\"\n",
    "# vowels = a,e,i,o,u\n",
    "alp[1:4]+alp[5:8]+alp[9:14]+alp[15:20]+alp[21:]"
   ]
  },
  {
   "cell_type": "code",
   "execution_count": null,
   "id": "16364cbd",
   "metadata": {},
   "outputs": [],
   "source": []
  }
 ],
 "metadata": {
  "kernelspec": {
   "display_name": "Python 3 (ipykernel)",
   "language": "python",
   "name": "python3"
  },
  "language_info": {
   "codemirror_mode": {
    "name": "ipython",
    "version": 3
   },
   "file_extension": ".py",
   "mimetype": "text/x-python",
   "name": "python",
   "nbconvert_exporter": "python",
   "pygments_lexer": "ipython3",
   "version": "3.11.3"
  }
 },
 "nbformat": 4,
 "nbformat_minor": 5
}
